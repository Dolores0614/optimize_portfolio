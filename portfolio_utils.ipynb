import sys
import os

# 将脚本文件所在的目录添加到Python路径中
sys.path.append(os.path.abspath('.'))

# 导入你写的脚本中的函数
from optimize_portfolio import fetch_stock_data, optimize_portfolio, scrape_news_and_analyze_sentiment, adjust_returns_with_sentiment, calculate_var, calculate_sharpe_ratio

import pandas as pd
import ipywidgets as widgets
from IPython.display import display

# 用户输入的控件
ticker_input = widgets.Text(
    value='',
    placeholder='Enter stock tickers separated by commas',
    description='Tickers:',
    disabled=False
)

investment_input = widgets.FloatText(
    value=10000,
    placeholder='Enter investment amount',
    description='Investment Amount:',
    disabled=False
)

risk_preference_input = widgets.Dropdown(
    options=['averse', 'neutral', 'like'],
    value='neutral',
    description='Risk Preference:'
)

output = widgets.Output()

def on_button_click(b):
    with output:
        output.clear_output()
        tickers = [ticker.strip() for ticker in ticker_input.value.split(",")]
        investment_amount = investment_input.value
        risk_preference = risk_preference_input.value
        try:
            weights, allocation, leftover, performance = optimize_portfolio(tickers, investment_amount, risk_preference)
            print("\nOptimal Weights:")
            for ticker, weight in weights.items():
                print(f"{ticker}: {weight:.4f}")
            print("\nInvestment Allocation:")
            if allocation:
                for ticker, amount in allocation.items():
                    print(f"{ticker}: {amount} stocks")
            else:
                print("No allocation was made.")
            print(f"\nFunds Remaining: ${leftover:.2f}")
            print("\nPortfolio Performance:")
            print(f"Expected annual return: {performance[0]:.2f}")
            print(f"Annual volatility: {performance[1]:.2f}")
            print(f"Sharpe ratio: {performance[2]:.2f}")
        except ValueError as e:
            print(f"Error: {e}")

button = widgets.Button(
    description='Calculate Allocation',
    disabled=False,
    button_style='',
    tooltip='Click to calculate portfolio allocation',
    icon='check'
)
button.on_click(on_button_click)

display(ticker_input, investment_input, risk_preference_input, button, output)
