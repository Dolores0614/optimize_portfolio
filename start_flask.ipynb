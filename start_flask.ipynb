{
 "cells": [
  {
   "cell_type": "code",
   "execution_count": null,
   "id": "31923c4d-a8c9-403b-827c-26860ff25be4",
   "metadata": {},
   "outputs": [],
   "source": [
    "!pip install -r requirements.txt"
   ]
  },
  {
   "cell_type": "code",
   "execution_count": null,
   "id": "e002cfb1-9bef-442c-8baa-7e231c28c31f",
   "metadata": {},
   "outputs": [],
   "source": [
    "!python -m nltk.downloader vader_lexicon"
   ]
  },
  {
   "cell_type": "code",
   "execution_count": null,
   "id": "69d75468-20f0-44a0-a983-0996fdd5b0a0",
   "metadata": {},
   "outputs": [],
   "source": [
    "with open('start_flask.sh', 'w') as f:\n",
    "    f.write('''\n",
    "#!/bin/bash\n",
    "export FLASK_APP=app.py\n",
    "flask run --host=0.0.0.0 --port=8888\n",
    "''')"
   ]
  },
  {
   "cell_type": "code",
   "execution_count": null,
   "id": "0d9877fd-3230-45e5-b4d6-279ad6266ee7",
   "metadata": {},
   "outputs": [],
   "source": [
    "!chmod +x start_flask.sh"
   ]
  },
  {
   "cell_type": "code",
   "execution_count": null,
   "id": "3ce06f5d-6929-40c5-8b30-462d4d490b0e",
   "metadata": {},
   "outputs": [],
   "source": [
    "!./start_flask.sh"
   ]
  }
 ],
 "metadata": {
  "kernelspec": {
   "display_name": "Python 3 (ipykernel)",
   "language": "python",
   "name": "python3"
  },
  "language_info": {
   "codemirror_mode": {
    "name": "ipython",
    "version": 3
   },
   "file_extension": ".py",
   "mimetype": "text/x-python",
   "name": "python",
   "nbconvert_exporter": "python",
   "pygments_lexer": "ipython3",
   "version": "3.12.4"
  }
 },
 "nbformat": 4,
 "nbformat_minor": 5
}
